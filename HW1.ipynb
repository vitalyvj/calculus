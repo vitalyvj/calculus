{
 "cells": [
  {
   "cell_type": "code",
   "execution_count": 1,
   "metadata": {},
   "outputs": [],
   "source": [
    "from itertools import product\n",
    "from mpmath import factorial"
   ]
  },
  {
   "cell_type": "markdown",
   "metadata": {},
   "source": [
    "## Множество"
   ]
  },
  {
   "cell_type": "code",
   "execution_count": 2,
   "metadata": {},
   "outputs": [],
   "source": [
    "a = {1, 2, 3, 4, 5}\n",
    "b = {3, 5, 6}\n",
    "c = {5, 6, 7, 8}"
   ]
  },
  {
   "cell_type": "markdown",
   "metadata": {},
   "source": [
    "**Union**"
   ]
  },
  {
   "cell_type": "code",
   "execution_count": 3,
   "metadata": {},
   "outputs": [
    {
     "name": "stdout",
     "output_type": "stream",
     "text": [
      "aub={1, 2, 3, 4, 5, 6}\n",
      "auc={1, 2, 3, 4, 5, 6, 7, 8}\n",
      "buc={3, 5, 6, 7, 8}\n"
     ]
    }
   ],
   "source": [
    "print(f'aub={a.union(b)}')\n",
    "print(f'auc={a.union(c)}')\n",
    "print(f'buc={b.union(c)}')"
   ]
  },
  {
   "cell_type": "markdown",
   "metadata": {},
   "source": [
    "**Intersection**"
   ]
  },
  {
   "cell_type": "code",
   "execution_count": 4,
   "metadata": {},
   "outputs": [
    {
     "name": "stdout",
     "output_type": "stream",
     "text": [
      "aib={3, 5}\n",
      "aic={5}\n",
      "bic={5, 6}\n"
     ]
    }
   ],
   "source": [
    "print(f'aib={a.intersection(b)}')\n",
    "print(f'aic={a.intersection(c)}')\n",
    "print(f'bic={b.intersection(c)}')"
   ]
  },
  {
   "cell_type": "markdown",
   "metadata": {},
   "source": [
    "**Difference**"
   ]
  },
  {
   "cell_type": "code",
   "execution_count": 5,
   "metadata": {},
   "outputs": [
    {
     "name": "stdout",
     "output_type": "stream",
     "text": [
      "adb={1, 2, 4}\n",
      "bda={6}\n",
      "adc={1, 2, 3, 4}\n",
      "cda={8, 6, 7}\n",
      "bdc={3}\n",
      "cdb={8, 7}\n"
     ]
    }
   ],
   "source": [
    "print(f'adb={a.difference(b)}')\n",
    "print(f'bda={b.difference(a)}')\n",
    "\n",
    "print(f'adc={a.difference(c)}')\n",
    "print(f'cda={c.difference(a)}')\n",
    "\n",
    "print(f'bdc={b.difference(c)}')\n",
    "print(f'cdb={c.difference(b)}')"
   ]
  },
  {
   "cell_type": "markdown",
   "metadata": {},
   "source": [
    "**Symmetric difference**"
   ]
  },
  {
   "cell_type": "code",
   "execution_count": 6,
   "metadata": {},
   "outputs": [
    {
     "name": "stdout",
     "output_type": "stream",
     "text": [
      "asdb={1, 2, 4, 6}\n",
      "asdc={1, 2, 3, 4, 6, 7, 8}\n",
      "bsdc={3, 7, 8}\n"
     ]
    }
   ],
   "source": [
    "print(f'asdb={a.symmetric_difference(b)}')\n",
    "print(f'asdc={a.symmetric_difference(c)}')\n",
    "print(f'bsdc={b.symmetric_difference(c)}')"
   ]
  },
  {
   "cell_type": "markdown",
   "metadata": {},
   "source": [
    "**Multiplication**"
   ]
  },
  {
   "cell_type": "code",
   "execution_count": 7,
   "metadata": {},
   "outputs": [
    {
     "name": "stdout",
     "output_type": "stream",
     "text": [
      "axb={(5, 5), (1, 5), (4, 3), (4, 6), (2, 3), (4, 5), (3, 3), (2, 6), (5, 6), (3, 6), (5, 3), (1, 6), (2, 5), (1, 3), (3, 5)}\n",
      "axc={(3, 7), (4, 6), (5, 7), (1, 6), (2, 5), (2, 8), (4, 5), (5, 6), (4, 8), (3, 6), (2, 7), (1, 5), (1, 8), (4, 7), (3, 5), (3, 8), (5, 5), (5, 8), (1, 7), (2, 6)}\n",
      "bxc={(3, 8), (5, 5), (6, 5), (5, 8), (3, 7), (6, 8), (5, 7), (6, 7), (5, 6), (3, 6), (6, 6), (3, 5)}\n"
     ]
    }
   ],
   "source": [
    "print(f'axb={set(product(a, b))}')\n",
    "print(f'axc={set(product(a, c))}')\n",
    "print(f'bxc={set(product(b, c))}')"
   ]
  },
  {
   "cell_type": "markdown",
   "metadata": {},
   "source": [
    "## Последовательность"
   ]
  },
  {
   "cell_type": "code",
   "execution_count": 8,
   "metadata": {},
   "outputs": [],
   "source": [
    "def f(n):\n",
    "    return float(n/factorial(n)**(1/n))"
   ]
  },
  {
   "cell_type": "code",
   "execution_count": 9,
   "metadata": {},
   "outputs": [
    {
     "name": "stdout",
     "output_type": "stream",
     "text": [
      "lim = 2.7169884 на 11779 элементе последовательности, точность = 1e-07\n"
     ]
    }
   ],
   "source": [
    "e = 10 ** (-7)\n",
    "i = 2\n",
    "\n",
    "while f(i) - f(i - 1) > e:\n",
    "    i += 1\n",
    "\n",
    "print(f'lim = {f(i):.8} на {i} элементе последовательности, точность = {(f(i) - f(i - 1)):.4}')"
   ]
  },
  {
   "cell_type": "markdown",
   "metadata": {},
   "source": [
    "**Оптимизация алгоритма**"
   ]
  },
  {
   "cell_type": "code",
   "execution_count": 10,
   "metadata": {},
   "outputs": [
    {
     "name": "stdout",
     "output_type": "stream",
     "text": [
      "lim = 2.7169884 на 11779 элементе последовательности, точность = 1e-07\n"
     ]
    }
   ],
   "source": [
    "i = 2\n",
    "\n",
    "while f(i) - f(i - 1) > e:\n",
    "    i += 1000\n",
    "i -= 1000\n",
    "\n",
    "while f(i) - f(i - 1) > e:\n",
    "    i += 100\n",
    "i -= 100\n",
    "\n",
    "while f(i) - f(i - 1) > e:\n",
    "    i += 10\n",
    "i -= 10\n",
    "\n",
    "while f(i) - f(i - 1) > e:\n",
    "    i += 1\n",
    "\n",
    "print(f'lim = {f(i):.8} на {i} элементе последовательности, точность = {(f(i) - f(i - 1)):.4}')\n"
   ]
  }
 ],
 "metadata": {
  "kernelspec": {
   "display_name": "Python 3",
   "language": "python",
   "name": "python3"
  },
  "language_info": {
   "codemirror_mode": {
    "name": "ipython",
    "version": 3
   },
   "file_extension": ".py",
   "mimetype": "text/x-python",
   "name": "python",
   "nbconvert_exporter": "python",
   "pygments_lexer": "ipython3",
   "version": "3.8.3"
  }
 },
 "nbformat": 4,
 "nbformat_minor": 4
}
